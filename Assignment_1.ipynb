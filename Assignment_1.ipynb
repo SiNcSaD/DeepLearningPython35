{
 "cells": [
  {
   "cell_type": "code",
   "execution_count": 1,
   "metadata": {
    "ExecuteTime": {
     "end_time": "2018-03-20T09:29:21.943149Z",
     "start_time": "2018-03-20T09:29:21.892084Z"
    },
    "collapsed": true
   },
   "outputs": [],
   "source": [
    "import mnist_loader\n",
    "import network"
   ]
  },
  {
   "cell_type": "code",
   "execution_count": 2,
   "metadata": {
    "ExecuteTime": {
     "end_time": "2018-03-20T09:29:23.125276Z",
     "start_time": "2018-03-20T09:29:22.229860Z"
    },
    "collapsed": true
   },
   "outputs": [],
   "source": [
    "training_data, validation_data, test_data = mnist_loader.load_data_wrapper()"
   ]
  },
  {
   "cell_type": "code",
   "execution_count": 3,
   "metadata": {
    "ExecuteTime": {
     "end_time": "2018-03-20T09:29:23.159291Z",
     "start_time": "2018-03-20T09:29:23.126838Z"
    }
   },
   "outputs": [],
   "source": [
    "training_data = list(training_data)\n",
    "n = len(training_data)"
   ]
  },
  {
   "cell_type": "code",
   "execution_count": null,
   "metadata": {
    "ExecuteTime": {
     "end_time": "2018-03-20T07:23:55.203647Z",
     "start_time": "2018-03-20T07:23:55.200585Z"
    },
    "collapsed": true
   },
   "outputs": [],
   "source": [
    "net = network.Network([784, 10])"
   ]
  },
  {
   "cell_type": "code",
   "execution_count": null,
   "metadata": {
    "ExecuteTime": {
     "end_time": "2018-03-20T07:24:52.342164Z",
     "start_time": "2018-03-20T07:23:56.107705Z"
    }
   },
   "outputs": [],
   "source": [
    "net.SGD(training_data, 30, 10, 3.0, test_data=test_data)"
   ]
  }
 ],
 "metadata": {
  "kernelspec": {
   "display_name": "Python 3",
   "language": "python",
   "name": "python3"
  },
  "language_info": {
   "codemirror_mode": {
    "name": "ipython",
    "version": 3
   },
   "file_extension": ".py",
   "mimetype": "text/x-python",
   "name": "python",
   "nbconvert_exporter": "python",
   "pygments_lexer": "ipython3",
   "version": "3.6.3"
  }
 },
 "nbformat": 4,
 "nbformat_minor": 2
}
